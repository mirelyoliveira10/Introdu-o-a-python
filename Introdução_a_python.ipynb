{
  "nbformat": 4,
  "nbformat_minor": 0,
  "metadata": {
    "colab": {
      "provenance": [],
      "authorship_tag": "ABX9TyO57ErJjWuZiaKWeA4eM7yN",
      "include_colab_link": true
    },
    "kernelspec": {
      "name": "python3",
      "display_name": "Python 3"
    },
    "language_info": {
      "name": "python"
    }
  },
  "cells": [
    {
      "cell_type": "markdown",
      "metadata": {
        "id": "view-in-github",
        "colab_type": "text"
      },
      "source": [
        "<a href=\"https://colab.research.google.com/github/mirelyoliveira10/Introdu-o-a-python/blob/main/Introdu%C3%A7%C3%A3o_a_python.ipynb\" target=\"_parent\"><img src=\"https://colab.research.google.com/assets/colab-badge.svg\" alt=\"Open In Colab\"/></a>"
      ]
    },
    {
      "cell_type": "markdown",
      "source": [
        "## Aula 1"
      ],
      "metadata": {
        "id": "XNFCD3O8MbqG"
      }
    },
    {
      "cell_type": "code",
      "source": [],
      "metadata": {
        "id": "H00_zmY-iUKV"
      },
      "execution_count": null,
      "outputs": []
    },
    {
      "cell_type": "code",
      "execution_count": null,
      "metadata": {
        "colab": {
          "base_uri": "https://localhost:8080/"
        },
        "id": "B7lBdy7kHGut",
        "outputId": "6086c06b-fa1c-41ed-f907-312490d6246c"
      },
      "outputs": [
        {
          "output_type": "stream",
          "name": "stdout",
          "text": [
            "I Competição de programação da start\n"
          ]
        }
      ],
      "source": [
        "print(\"I Competição de programação da start\")"
      ]
    },
    {
      "cell_type": "code",
      "source": [
        "ano=\"II\"\n",
        "\n",
        "print(ano, \"Competição de programação da Start\")"
      ],
      "metadata": {
        "colab": {
          "base_uri": "https://localhost:8080/"
        },
        "id": "sRoXRY9OKY6X",
        "outputId": "ec2ff526-c5f3-4b25-ec2d-b869a6dc0c07"
      },
      "execution_count": null,
      "outputs": [
        {
          "output_type": "stream",
          "name": "stdout",
          "text": [
            "II Competição de programação da Start\n"
          ]
        }
      ]
    },
    {
      "cell_type": "code",
      "source": [
        "print(f\"{ano} Competição da programação da Start\")"
      ],
      "metadata": {
        "colab": {
          "base_uri": "https://localhost:8080/"
        },
        "id": "Is_mkHc7LYC_",
        "outputId": "8ed48260-f7cd-42d6-d003-526aff4ca48f"
      },
      "execution_count": null,
      "outputs": [
        {
          "output_type": "stream",
          "name": "stdout",
          "text": [
            "II Competição da programação da Start\n"
          ]
        }
      ]
    },
    {
      "cell_type": "markdown",
      "source": [
        "## Aula 2"
      ],
      "metadata": {
        "id": "V85yY5LQMwEt"
      }
    },
    {
      "cell_type": "markdown",
      "source": [
        "Uma escola está promovendo uma campanha de incentivo à leitura, em que cada estudante recebe pontos ao concluir livros. Esses pontos podem ser trocados por diferentes premios da escola. As categorias de livros têm valores de pontos diferentes:\n",
        "\n",
        "* Livro de ficção: 10 pontos\n",
        "* Livro de não-ficção: 8 pontos\n",
        "* Livro infantil: 6 pontos\n",
        "\n",
        "**Problema:**\n",
        "\n",
        "Rodrigo leu um livro de cada categoria. Agora ele quer saber quantos pontos acumulou com sua leitura.\n",
        "\n",
        "Nosso objetivo é criar um programa em Python que:\n",
        "\n",
        "* Armazene a pontuação de cada categoria de livro em uma variável.\n",
        "* Calcule o total de pontos acumulados por Rodrigo.\n",
        "* Mostre na tela o total de pontos acumulados por Rodrigo."
      ],
      "metadata": {
        "id": "PCJbpZThNROF"
      }
    },
    {
      "cell_type": "code",
      "source": [
        "livro_ficcao = 10\n",
        "livro_nficcao = 8\n",
        "livro_infantil = 6\n",
        "\n",
        "pontos_rodrigo = livro_ficcao + livro_nficcao + livro_infantil\n",
        "\n",
        "print(f\"Os pontos totais do Rodrigo são: {pontos_rodrigo}\")"
      ],
      "metadata": {
        "colab": {
          "base_uri": "https://localhost:8080/"
        },
        "id": "3urU3BELkM8Y",
        "outputId": "8d5caac2-b84f-4644-c63c-942cbe572b58"
      },
      "execution_count": null,
      "outputs": [
        {
          "output_type": "stream",
          "name": "stdout",
          "text": [
            "Os pontos totais do Rodrigo são: 24\n"
          ]
        }
      ]
    },
    {
      "cell_type": "markdown",
      "source": [
        "##Desafio"
      ],
      "metadata": {
        "id": "KGzJ6Qz1QAaB"
      }
    },
    {
      "cell_type": "markdown",
      "source": [
        "Ana também participou da campanha e leu 2 livros de ficção e 5 livros infantis.\n",
        "\n",
        "Como podemos calcular o total de pontos de Ana? Será que é possivel calcular o total de pontos de pontos acumulados por Rodrigo e Ana juntos?"
      ],
      "metadata": {
        "id": "Nx1u_MX_nI6p"
      }
    },
    {
      "cell_type": "code",
      "source": [
        "livro_ficcao = 12\n",
        "livro_nficcao = 8\n",
        "livro_infantil = 11\n",
        "\n",
        "pontos_rodrigo_ana = livro_ficcao + livro_nficcao + livro_infantil\n",
        "\n",
        "print(f\"Os pontos totais do Rodrigo e ana são: {pontos_rodrigo_ana}\")"
      ],
      "metadata": {
        "colab": {
          "base_uri": "https://localhost:8080/"
        },
        "id": "hGltifWORr6H",
        "outputId": "2cf87127-0ced-4816-9722-9ab24ddde884"
      },
      "execution_count": null,
      "outputs": [
        {
          "output_type": "stream",
          "name": "stdout",
          "text": [
            "Os pontos totais do Rodrigo e ana são: 31\n"
          ]
        }
      ]
    },
    {
      "cell_type": "markdown",
      "source": [
        "##Aula 3"
      ],
      "metadata": {
        "id": "geKKbi-WNYy5"
      }
    },
    {
      "cell_type": "markdown",
      "source": [
        "Divisão do tesouro: https://olimpiada.ic.unicamp.br/passadas/OBI2020/fase1/programacao-b/\n",
        "\n",
        "A turma do 2º ano encontrou um envelope cheio de figurinhas. Para garantir uma divisão justa, todos concordaram com a sugestão de João, o dono do envelope:\n",
        "\n",
        "Cada amigo, exceto João, deve receber exatamente o mesmo número de figurinhas. João deve receber o dobro da quantidade que cada amigo recebe. Pode ser que o fato de João ser o dono do envelope tenha ajudado a convencer os amigos, mas também contribuiu o fato de que, do jeito proposto, a divisão era exata, sem sobrar nem faltar figurinhas.\n",
        "\n",
        "**Problema:**\n",
        "\n",
        "Crie um programa que determine a quantidade de figurinhas que João recebeu, dado o número total de figurinhas no envelope e o número de amigos de João.\n",
        "\n",
        "**Entrada:**\n",
        "\n",
        "* A primeira linha contém um número inteiro `total_figurinhas`, que representa o número de figurinhas no envelope.\n",
        "* A segunda linha contém um número inteiro `numero_amigos`, que representa a quantidade de amigos de João (excluindo o próprio João)."
      ],
      "metadata": {
        "id": "FI0w9ED9OeXq"
      }
    },
    {
      "cell_type": "code",
      "source": [
        "total_figurinhas = int(input(\"Digite o total de figurinhas: \"))\n",
        "numero_amigos = int(input(\"Digite o número de amigos: \"))\n",
        "\n",
        "figurinhas_amigos = total_figurinhas // (numero_amigos + 2)\n",
        "\n",
        "figurinhas_joao = 2 * figurinhas_amigos\n",
        "\n",
        "print(f\"João recebeu {figurinhas_joao} figurinhas.\")\n"
      ],
      "metadata": {
        "colab": {
          "base_uri": "https://localhost:8080/"
        },
        "id": "zAbCM0lTO4lz",
        "outputId": "f6e794e4-dc60-4afa-aab7-291c60644754"
      },
      "execution_count": null,
      "outputs": [
        {
          "output_type": "stream",
          "name": "stdout",
          "text": [
            "Digite o total de figurinhas: 100\n",
            "Digite o número de amigos: 5\n",
            "João recebeu 28 figurinhas.\n"
          ]
        }
      ]
    },
    {
      "cell_type": "markdown",
      "source": [
        "##Desafio"
      ],
      "metadata": {
        "id": "-6ekmlRMPi2E"
      }
    },
    {
      "cell_type": "markdown",
      "source": [
        "Depois de dividir as figurinhas no recreio, João percebeu que ainda havia algumas figurinhas extras em sua mochila. Ele decidiu que essas figurinhas extras também devem ser distribuídas de forma justa entre ele e seus amigos, mantendo a mesma regra:\n",
        "\n",
        "Cada amigo recebe uma quantidade igual de figurinhas.\n",
        "João recebe o dobro da quantidade de figurinhas que cada amigo recebe.\n",
        "Ajude João a distribuir todas as figurinhas, incluindo as extras, de maneira justa, sem deixar nenhuma figurinha sobrando.\n",
        "\n",
        "Entrada\n",
        "\n",
        "* número total de figurinhas no envelope.\n",
        "* número de amigos de João (excluindo o próprio João).\n",
        "* número de figurinhas extras encontradas na mochila de João.\n",
        "* calcular a nova quantidade total de figurinhas, somando as extras.\n",
        "* dividir as figurinhas entre João e seus amigos, garantindo que João receba o dobro de figurinhas que cada amigo.\n",
        "exibir a quantidade de figurinhas que João recebeu."
      ],
      "metadata": {
        "id": "Sefwqc8fPnEB"
      }
    },
    {
      "cell_type": "code",
      "source": [
        "def distribuir_figurinhas(figurinhas_iniciais, amigos, extras):\n",
        "    # Calcular o total de figurinhas\n",
        "    total_figurinhas = figurinhas_iniciais + extras\n",
        "\n",
        "    # João recebe o dobro das figurinhas de cada amigo\n",
        "    # Se cada amigo receber 'x' figurinhas, João recebe 2 * x figurinhas\n",
        "    # O total de figurinhas distribuídas é: (amigos * x) + (2 * x)\n",
        "    # Ou seja, total_figurinhas = (amigos + 2) * x\n",
        "    # Para encontrar o valor de 'x', basta dividir o total de figurinhas por (amigos + 2)\n",
        "\n",
        "    x = total_figurinhas // (amigos + 2)  # Cada amigo recebe 'x' figurinhas\n",
        "\n",
        "    # João recebe o dobro da quantidade de cada amigo\n",
        "    figurinhas_joao = 2 * x\n",
        "\n",
        "    # Exibir a quantidade de figurinhas que João recebeu\n",
        "    print(f\"João recebeu {figurinhas_joao} figurinhas.\")\n",
        "\n",
        "# Leitura dos dados de entrada\n",
        "figurinhas_iniciais = int(input(\"Digite o número total de figurinhas no envelope: \"))\n",
        "amigos = int(input(\"Digite o número de amigos de João (excluindo ele mesmo): \"))\n",
        "extras = int(input(\"Digite o número de figurinhas extras encontradas: \"))\n",
        "\n",
        "# Chamar a função para distribuir as figurinhas\n",
        "distribuir_figurinhas(figurinhas_iniciais, amigos, extras)\n"
      ],
      "metadata": {
        "colab": {
          "base_uri": "https://localhost:8080/"
        },
        "id": "z_LFve_3tQAx",
        "outputId": "05394268-b1fa-43dd-eb92-2025b5ef930f"
      },
      "execution_count": null,
      "outputs": [
        {
          "output_type": "stream",
          "name": "stdout",
          "text": [
            "Digite o número total de figurinhas no envelope: 100\n",
            "Digite o número de amigos de João (excluindo ele mesmo): 5\n",
            "Digite o número de figurinhas extras encontradas: 20\n",
            "João recebeu 34 figurinhas.\n"
          ]
        }
      ]
    },
    {
      "cell_type": "markdown",
      "source": [
        "##Aula 4"
      ],
      "metadata": {
        "id": "9qQiXmWmQc6o"
      }
    },
    {
      "cell_type": "markdown",
      "source": [
        "Bondinho - link: https://olimpiada.ic.unicamp.br/pratique/pj/2017/f1/bondinho/\n",
        "\n",
        "\n",
        "A turma de um colégio está organizando uma excursão para a serra e, para chegar ao pico da montanha, todos os alunos e monitores devem usar um bondinho. No entanto, a cabine do bondinho tem uma capacidade máxima de 50 pessoas por viagem.\n",
        "\n",
        "Você precisa criar um programa que verifique se todos os alunos e monitores podem ser transportados em apenas uma viagem.\n",
        "\n",
        "**Entrada**\n",
        "\n",
        "* Um número inteiro `numero_alunos`, representando a quantidade de alunos na excursão.\n",
        "* Um número inteiro `numero_monitores`, representando a quantidade de monitores na excursão."
      ],
      "metadata": {
        "id": "tmOOxNJrnM_i"
      }
    },
    {
      "cell_type": "code",
      "source": [
        "numero_alunos = int(input(\"Digite a quantidade de alunos: \"))\n",
        "numero_monitores = int(input(\"Digite a quantidade de monitores: \"))\n",
        "resposta_positiva = \"Pode ir\"\n",
        "resposta_negativa = \"Não pode ir\"\n",
        "\n",
        "if numero_alunos + numero_monitores <= 50:\n",
        "  print(resposta_positiva)\n",
        "else:\n",
        "  print(resposta_negativa)"
      ],
      "metadata": {
        "colab": {
          "base_uri": "https://localhost:8080/"
        },
        "id": "itJFpLTInsPI",
        "outputId": "e0844452-d66b-4093-fefb-a75424d0158b"
      },
      "execution_count": null,
      "outputs": [
        {
          "output_type": "stream",
          "name": "stdout",
          "text": [
            "Digite a quantidade de alunos: 10\n",
            "Digite a quantidade de monitores: 10\n",
            "Pode ir\n"
          ]
        }
      ]
    },
    {
      "cell_type": "markdown",
      "source": [
        "##Desafio"
      ],
      "metadata": {
        "id": "ORyHFybeoqBJ"
      }
    },
    {
      "cell_type": "markdown",
      "source": [
        "Agora, imagine que infelizmente o bondinho que carrega 50 pessoas está em manutenção e agora todo mundo vai precisar usar um bondinho menos sofisticado e ele só pode levar 30 pessoas. Além disso, 8 professores do colégio também vão participar da excursão. Como fazemos para garantir que o número total de pessoas no bondinho (alunos, monitores e professores) não ultrapasse a capacidade máxima de 30 pessoas?\n",
        "\n",
        "Seu desafio é escrever um programa que verifique se é possível ou não levar todos em apenas uma viagem."
      ],
      "metadata": {
        "id": "A80fV0rAo0zY"
      }
    },
    {
      "cell_type": "code",
      "source": [
        "def verificar_capacidade(total_alunos, total_monitores, total_professores):\n",
        "    # Capacidade máxima do bondinho\n",
        "    capacidade_maxima = 30\n",
        "\n",
        "    # Calcular o total de pessoas\n",
        "    total_pessoas = total_alunos + total_monitores + total_professores\n",
        "\n",
        "    # Verificar se a capacidade foi ultrapassada\n",
        "    if total_pessoas <= capacidade_maxima:\n",
        "        return \"É possível levar todos em uma viagem!\"\n",
        "    else:\n",
        "        return \"Não é possível levar todos em uma viagem. É necessário dividir em mais de uma viagem.\"\n",
        "\n",
        "# Exemplo de entrada\n",
        "alunos = int(input(\"Digite o número de alunos: \"))\n",
        "monitores = int(input(\"Digite o número de monitores: \"))\n",
        "professores = 8  # O número de professores já é fixo\n",
        "\n",
        "# Chama a função para verificar\n",
        "resultado = verificar_capacidade(alunos, monitores, professores)\n",
        "print(resultado)\n"
      ],
      "metadata": {
        "colab": {
          "base_uri": "https://localhost:8080/"
        },
        "id": "ujkZvkpdMt5l",
        "outputId": "83a5b1ab-ebd5-422c-d09d-607a4165d51f"
      },
      "execution_count": 1,
      "outputs": [
        {
          "output_type": "stream",
          "name": "stdout",
          "text": [
            "Digite o número de alunos: 20\n",
            "Digite o número de monitores: 2\n",
            "É possível levar todos em uma viagem!\n"
          ]
        }
      ]
    }
  ]
}